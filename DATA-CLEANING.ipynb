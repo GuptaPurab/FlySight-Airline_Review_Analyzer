{
 "cells": [
  {
   "cell_type": "markdown",
   "id": "c27f9a07-e035-4553-a2ab-357eb3aa8a13",
   "metadata": {},
   "source": [
    "This jupyter source notebook will be about the cleaning the data that we scraped in the file \"Ba-Reviews\"."
   ]
  },
  {
   "cell_type": "code",
   "execution_count": 72,
   "id": "2cd8e46b-d0f2-4047-ac36-073a0bd02553",
   "metadata": {},
   "outputs": [],
   "source": [
    "#imports\n",
    "\n",
    "import pandas as pd\n",
    "import matplotlib.pyplot as plt\n",
    "import seaborn as sns\n",
    "import os\n",
    "\n",
    "#regex\n",
    "import re"
   ]
  },
  {
   "cell_type": "code",
   "execution_count": 73,
   "id": "73320d8d-0461-4878-b799-f18bd3e5d081",
   "metadata": {},
   "outputs": [
    {
     "name": "stderr",
     "output_type": "stream",
     "text": [
      "<>:1: SyntaxWarning: invalid escape sequence '\\B'\n",
      "<>:1: SyntaxWarning: invalid escape sequence '\\B'\n",
      "C:\\Users\\ragep\\AppData\\Local\\Temp\\ipykernel_18132\\3313550904.py:1: SyntaxWarning: invalid escape sequence '\\B'\n",
      "  df = pd.read_csv(\"D:\\BA-FEEDBACKLENS\\BA_reviews.csv\", index_col=0)\n"
     ]
    }
   ],
   "source": [
    "df = pd.read_csv(\"D:\\BA-FEEDBACKLENS\\BA_reviews.csv\", index_col=0)"
   ]
  },
  {
   "cell_type": "code",
   "execution_count": 74,
   "id": "aa400762-e271-4f6b-ad2d-e442a497913b",
   "metadata": {},
   "outputs": [
    {
     "data": {
      "text/html": [
       "<div>\n",
       "<style scoped>\n",
       "    .dataframe tbody tr th:only-of-type {\n",
       "        vertical-align: middle;\n",
       "    }\n",
       "\n",
       "    .dataframe tbody tr th {\n",
       "        vertical-align: top;\n",
       "    }\n",
       "\n",
       "    .dataframe thead th {\n",
       "        text-align: right;\n",
       "    }\n",
       "</style>\n",
       "<table border=\"1\" class=\"dataframe\">\n",
       "  <thead>\n",
       "    <tr style=\"text-align: right;\">\n",
       "      <th></th>\n",
       "      <th>reviews</th>\n",
       "      <th>stars</th>\n",
       "      <th>date</th>\n",
       "      <th>country</th>\n",
       "    </tr>\n",
       "  </thead>\n",
       "  <tbody>\n",
       "    <tr>\n",
       "      <th>0</th>\n",
       "      <td>Not Verified |  LHR T5 BA Gold Wing worked wel...</td>\n",
       "      <td>5.0</td>\n",
       "      <td>3rd April 2025</td>\n",
       "      <td>United Kingdom</td>\n",
       "    </tr>\n",
       "    <tr>\n",
       "      <th>1</th>\n",
       "      <td>Not Verified |  Very good service on this rout...</td>\n",
       "      <td>9.0</td>\n",
       "      <td>31st March 2025</td>\n",
       "      <td>United Kingdom</td>\n",
       "    </tr>\n",
       "    <tr>\n",
       "      <th>2</th>\n",
       "      <td>✅ Trip Verified |   Flight mainly let down by ...</td>\n",
       "      <td>10.0</td>\n",
       "      <td>19th March 2025</td>\n",
       "      <td>United Kingdom</td>\n",
       "    </tr>\n",
       "    <tr>\n",
       "      <th>3</th>\n",
       "      <td>✅ Trip Verified |   Another awful experience b...</td>\n",
       "      <td>7.0</td>\n",
       "      <td>16th March 2025</td>\n",
       "      <td>United States</td>\n",
       "    </tr>\n",
       "    <tr>\n",
       "      <th>4</th>\n",
       "      <td>✅ Trip Verified |   The service was rude, full...</td>\n",
       "      <td>1.0</td>\n",
       "      <td>16th March 2025</td>\n",
       "      <td>United States</td>\n",
       "    </tr>\n",
       "  </tbody>\n",
       "</table>\n",
       "</div>"
      ],
      "text/plain": [
       "                                             reviews  stars             date  \\\n",
       "0  Not Verified |  LHR T5 BA Gold Wing worked wel...    5.0   3rd April 2025   \n",
       "1  Not Verified |  Very good service on this rout...    9.0  31st March 2025   \n",
       "2  ✅ Trip Verified |   Flight mainly let down by ...   10.0  19th March 2025   \n",
       "3  ✅ Trip Verified |   Another awful experience b...    7.0  16th March 2025   \n",
       "4  ✅ Trip Verified |   The service was rude, full...    1.0  16th March 2025   \n",
       "\n",
       "          country  \n",
       "0  United Kingdom  \n",
       "1  United Kingdom  \n",
       "2  United Kingdom  \n",
       "3   United States  \n",
       "4   United States  "
      ]
     },
     "execution_count": 74,
     "metadata": {},
     "output_type": "execute_result"
    }
   ],
   "source": [
    "df.head()"
   ]
  },
  {
   "cell_type": "code",
   "execution_count": 75,
   "id": "ff360f9a-551f-4717-91e7-fcba265e40de",
   "metadata": {},
   "outputs": [],
   "source": [
    "df['verified'] = df.reviews.str.contains(\"Trip Verified\")"
   ]
  },
  {
   "cell_type": "code",
   "execution_count": 76,
   "id": "382822c0-ee96-4323-900e-b220eb3a6ffc",
   "metadata": {},
   "outputs": [
    {
     "data": {
      "text/html": [
       "<div>\n",
       "<style scoped>\n",
       "    .dataframe tbody tr th:only-of-type {\n",
       "        vertical-align: middle;\n",
       "    }\n",
       "\n",
       "    .dataframe tbody tr th {\n",
       "        vertical-align: top;\n",
       "    }\n",
       "\n",
       "    .dataframe thead th {\n",
       "        text-align: right;\n",
       "    }\n",
       "</style>\n",
       "<table border=\"1\" class=\"dataframe\">\n",
       "  <thead>\n",
       "    <tr style=\"text-align: right;\">\n",
       "      <th></th>\n",
       "      <th>reviews</th>\n",
       "      <th>stars</th>\n",
       "      <th>date</th>\n",
       "      <th>country</th>\n",
       "      <th>verified</th>\n",
       "    </tr>\n",
       "  </thead>\n",
       "  <tbody>\n",
       "    <tr>\n",
       "      <th>0</th>\n",
       "      <td>Not Verified |  LHR T5 BA Gold Wing worked wel...</td>\n",
       "      <td>5.0</td>\n",
       "      <td>3rd April 2025</td>\n",
       "      <td>United Kingdom</td>\n",
       "      <td>False</td>\n",
       "    </tr>\n",
       "    <tr>\n",
       "      <th>1</th>\n",
       "      <td>Not Verified |  Very good service on this rout...</td>\n",
       "      <td>9.0</td>\n",
       "      <td>31st March 2025</td>\n",
       "      <td>United Kingdom</td>\n",
       "      <td>False</td>\n",
       "    </tr>\n",
       "    <tr>\n",
       "      <th>2</th>\n",
       "      <td>✅ Trip Verified |   Flight mainly let down by ...</td>\n",
       "      <td>10.0</td>\n",
       "      <td>19th March 2025</td>\n",
       "      <td>United Kingdom</td>\n",
       "      <td>True</td>\n",
       "    </tr>\n",
       "    <tr>\n",
       "      <th>3</th>\n",
       "      <td>✅ Trip Verified |   Another awful experience b...</td>\n",
       "      <td>7.0</td>\n",
       "      <td>16th March 2025</td>\n",
       "      <td>United States</td>\n",
       "      <td>True</td>\n",
       "    </tr>\n",
       "    <tr>\n",
       "      <th>4</th>\n",
       "      <td>✅ Trip Verified |   The service was rude, full...</td>\n",
       "      <td>1.0</td>\n",
       "      <td>16th March 2025</td>\n",
       "      <td>United States</td>\n",
       "      <td>True</td>\n",
       "    </tr>\n",
       "  </tbody>\n",
       "</table>\n",
       "</div>"
      ],
      "text/plain": [
       "                                             reviews  stars             date  \\\n",
       "0  Not Verified |  LHR T5 BA Gold Wing worked wel...    5.0   3rd April 2025   \n",
       "1  Not Verified |  Very good service on this rout...    9.0  31st March 2025   \n",
       "2  ✅ Trip Verified |   Flight mainly let down by ...   10.0  19th March 2025   \n",
       "3  ✅ Trip Verified |   Another awful experience b...    7.0  16th March 2025   \n",
       "4  ✅ Trip Verified |   The service was rude, full...    1.0  16th March 2025   \n",
       "\n",
       "          country  verified  \n",
       "0  United Kingdom     False  \n",
       "1  United Kingdom     False  \n",
       "2  United Kingdom      True  \n",
       "3   United States      True  \n",
       "4   United States      True  "
      ]
     },
     "execution_count": 76,
     "metadata": {},
     "output_type": "execute_result"
    }
   ],
   "source": [
    "df.head()"
   ]
  },
  {
   "cell_type": "markdown",
   "id": "e6f3175c-92c7-4945-a6b8-f763521f6b34",
   "metadata": {},
   "source": [
    "<h1>CLEANING THE REVIEWS"
   ]
  },
  {
   "cell_type": "code",
   "execution_count": 78,
   "id": "6a4ce0d4-dc11-42e8-b9af-54cd4c2bcd6e",
   "metadata": {},
   "outputs": [
    {
     "name": "stderr",
     "output_type": "stream",
     "text": [
      "[nltk_data] Downloading package stopwords to\n",
      "[nltk_data]     C:\\Users\\ragep\\AppData\\Roaming\\nltk_data...\n",
      "[nltk_data]   Package stopwords is already up-to-date!\n",
      "[nltk_data] Downloading package wordnet to\n",
      "[nltk_data]     C:\\Users\\ragep\\AppData\\Roaming\\nltk_data...\n",
      "[nltk_data]   Package wordnet is already up-to-date!\n"
     ]
    }
   ],
   "source": [
    "import pandas as pd\n",
    "import re\n",
    "from nltk.stem import WordNetLemmatizer\n",
    "from nltk.corpus import stopwords\n",
    "import nltk\n",
    "\n",
    "# Download NLTK resources (only needed once)\n",
    "nltk.download('stopwords')\n",
    "nltk.download('wordnet')\n",
    "\n",
    "# Replace NaN with empty string\n",
    "df['reviews'] = df['reviews'].fillna(\"\")\n",
    "\n",
    "# Remove the prefix text\n",
    "df['clean_reviews'] = df['reviews'].str.replace(\"✅ Trip Verified |\", \"\", regex=False)\n",
    "\n",
    "# Initialize lemmatizer and stopwords\n",
    "lemma = WordNetLemmatizer()\n",
    "stop_words = set(stopwords.words(\"english\"))\n",
    "\n",
    "# Generate corpus\n",
    "corpus = []\n",
    "for rev in df['clean_reviews']:\n",
    "    rev = re.sub('[^a-zA-Z]', ' ', rev)\n",
    "    rev = rev.lower()\n",
    "    rev = rev.split()\n",
    "    rev = [lemma.lemmatize(word) for word in rev if word not in stop_words]\n",
    "    rev = \" \".join(rev)\n",
    "    corpus.append(rev)\n",
    "\n",
    "# Add corpus to the DataFrame\n",
    "df['corpus'] = corpus\n"
   ]
  },
  {
   "cell_type": "code",
   "execution_count": 79,
   "id": "91189d86-68bb-4234-adc5-ceb1ec24f5f6",
   "metadata": {},
   "outputs": [
    {
     "data": {
      "text/html": [
       "<div>\n",
       "<style scoped>\n",
       "    .dataframe tbody tr th:only-of-type {\n",
       "        vertical-align: middle;\n",
       "    }\n",
       "\n",
       "    .dataframe tbody tr th {\n",
       "        vertical-align: top;\n",
       "    }\n",
       "\n",
       "    .dataframe thead th {\n",
       "        text-align: right;\n",
       "    }\n",
       "</style>\n",
       "<table border=\"1\" class=\"dataframe\">\n",
       "  <thead>\n",
       "    <tr style=\"text-align: right;\">\n",
       "      <th></th>\n",
       "      <th>reviews</th>\n",
       "      <th>stars</th>\n",
       "      <th>date</th>\n",
       "      <th>country</th>\n",
       "      <th>verified</th>\n",
       "      <th>clean_reviews</th>\n",
       "      <th>corpus</th>\n",
       "    </tr>\n",
       "  </thead>\n",
       "  <tbody>\n",
       "    <tr>\n",
       "      <th>0</th>\n",
       "      <td>Not Verified |  LHR T5 BA Gold Wing worked wel...</td>\n",
       "      <td>5.0</td>\n",
       "      <td>3rd April 2025</td>\n",
       "      <td>United Kingdom</td>\n",
       "      <td>False</td>\n",
       "      <td>Not Verified |  LHR T5 BA Gold Wing worked wel...</td>\n",
       "      <td>verified lhr ba gold wing worked well pleasant...</td>\n",
       "    </tr>\n",
       "    <tr>\n",
       "      <th>1</th>\n",
       "      <td>Not Verified |  Very good service on this rout...</td>\n",
       "      <td>9.0</td>\n",
       "      <td>31st March 2025</td>\n",
       "      <td>United Kingdom</td>\n",
       "      <td>False</td>\n",
       "      <td>Not Verified |  Very good service on this rout...</td>\n",
       "      <td>verified good service route ba th march cabin ...</td>\n",
       "    </tr>\n",
       "    <tr>\n",
       "      <th>2</th>\n",
       "      <td>✅ Trip Verified |   Flight mainly let down by ...</td>\n",
       "      <td>10.0</td>\n",
       "      <td>19th March 2025</td>\n",
       "      <td>United Kingdom</td>\n",
       "      <td>True</td>\n",
       "      <td>Flight mainly let down by a disagreeable fl...</td>\n",
       "      <td>flight mainly let disagreeable flight attendan...</td>\n",
       "    </tr>\n",
       "    <tr>\n",
       "      <th>3</th>\n",
       "      <td>✅ Trip Verified |   Another awful experience b...</td>\n",
       "      <td>7.0</td>\n",
       "      <td>16th March 2025</td>\n",
       "      <td>United States</td>\n",
       "      <td>True</td>\n",
       "      <td>Another awful experience by British Airways...</td>\n",
       "      <td>another awful experience british airway flight...</td>\n",
       "    </tr>\n",
       "    <tr>\n",
       "      <th>4</th>\n",
       "      <td>✅ Trip Verified |   The service was rude, full...</td>\n",
       "      <td>1.0</td>\n",
       "      <td>16th March 2025</td>\n",
       "      <td>United States</td>\n",
       "      <td>True</td>\n",
       "      <td>The service was rude, full of attitude to m...</td>\n",
       "      <td>service rude full attitude food poorly service...</td>\n",
       "    </tr>\n",
       "  </tbody>\n",
       "</table>\n",
       "</div>"
      ],
      "text/plain": [
       "                                             reviews  stars             date  \\\n",
       "0  Not Verified |  LHR T5 BA Gold Wing worked wel...    5.0   3rd April 2025   \n",
       "1  Not Verified |  Very good service on this rout...    9.0  31st March 2025   \n",
       "2  ✅ Trip Verified |   Flight mainly let down by ...   10.0  19th March 2025   \n",
       "3  ✅ Trip Verified |   Another awful experience b...    7.0  16th March 2025   \n",
       "4  ✅ Trip Verified |   The service was rude, full...    1.0  16th March 2025   \n",
       "\n",
       "          country  verified  \\\n",
       "0  United Kingdom     False   \n",
       "1  United Kingdom     False   \n",
       "2  United Kingdom      True   \n",
       "3   United States      True   \n",
       "4   United States      True   \n",
       "\n",
       "                                       clean_reviews  \\\n",
       "0  Not Verified |  LHR T5 BA Gold Wing worked wel...   \n",
       "1  Not Verified |  Very good service on this rout...   \n",
       "2     Flight mainly let down by a disagreeable fl...   \n",
       "3     Another awful experience by British Airways...   \n",
       "4     The service was rude, full of attitude to m...   \n",
       "\n",
       "                                              corpus  \n",
       "0  verified lhr ba gold wing worked well pleasant...  \n",
       "1  verified good service route ba th march cabin ...  \n",
       "2  flight mainly let disagreeable flight attendan...  \n",
       "3  another awful experience british airway flight...  \n",
       "4  service rude full attitude food poorly service...  "
      ]
     },
     "execution_count": 79,
     "metadata": {},
     "output_type": "execute_result"
    }
   ],
   "source": [
    "df.head()"
   ]
  },
  {
   "cell_type": "markdown",
   "id": "1635126c-6cd4-49cd-88f4-86ef04a9c303",
   "metadata": {},
   "source": [
    "<h2> Formatting the data"
   ]
  },
  {
   "cell_type": "code",
   "execution_count": 81,
   "id": "404968c5-c1e1-42a7-8b01-22e2a9c90bde",
   "metadata": {},
   "outputs": [
    {
     "data": {
      "text/plain": [
       "reviews           object\n",
       "stars            float64\n",
       "date              object\n",
       "country           object\n",
       "verified            bool\n",
       "clean_reviews     object\n",
       "corpus            object\n",
       "dtype: object"
      ]
     },
     "execution_count": 81,
     "metadata": {},
     "output_type": "execute_result"
    }
   ],
   "source": [
    "df.dtypes"
   ]
  },
  {
   "cell_type": "code",
   "execution_count": 82,
   "id": "d37b4059-8875-4187-ae36-8b6252d6cc45",
   "metadata": {},
   "outputs": [
    {
     "data": {
      "text/plain": [
       "0           3rd April 2025\n",
       "1          31st March 2025\n",
       "2          19th March 2025\n",
       "3          16th March 2025\n",
       "4          16th March 2025\n",
       "               ...        \n",
       "3495    25th November 2014\n",
       "3496    25th November 2014\n",
       "3497    25th November 2014\n",
       "3498    25th November 2014\n",
       "3499    25th November 2014\n",
       "Name: date, Length: 3500, dtype: object"
      ]
     },
     "execution_count": 82,
     "metadata": {},
     "output_type": "execute_result"
    }
   ],
   "source": [
    "df['date'] #Currently as object datatype"
   ]
  },
  {
   "cell_type": "code",
   "execution_count": 83,
   "id": "aed33709-7512-4eec-aac3-9d6ed032bc52",
   "metadata": {},
   "outputs": [],
   "source": [
    "#Converting the given date into date-time format\n",
    "def clean_date(date_str):\n",
    "    return re.sub(r'(\\d+)(st|nd|rd|th)', r'\\1', date_str)\n",
    "\n",
    "# Clean the date strings\n",
    "df['date'] = df['date'].apply(clean_date)\n",
    "\n",
    "# Convert to datetime\n",
    "df['date'] = pd.to_datetime(df['date'], format='%d %B %Y')"
   ]
  },
  {
   "cell_type": "code",
   "execution_count": 99,
   "id": "6391ea2b-d57f-4e07-b441-f0699906eff5",
   "metadata": {},
   "outputs": [
    {
     "data": {
      "text/plain": [
       "0   2025-04-03\n",
       "1   2025-03-31\n",
       "2   2025-03-19\n",
       "3   2025-03-16\n",
       "4   2025-03-16\n",
       "Name: date, dtype: datetime64[ns]"
      ]
     },
     "execution_count": 99,
     "metadata": {},
     "output_type": "execute_result"
    }
   ],
   "source": [
    "df['date'].head()"
   ]
  },
  {
   "cell_type": "markdown",
   "id": "ea4f1fcc-f0a9-4db7-9d20-06b1d39600bf",
   "metadata": {},
   "source": [
    "<h2>CLEANING THE RATINGS WITH UNIQUE STARS COUNTS"
   ]
  },
  {
   "cell_type": "code",
   "execution_count": 106,
   "id": "bf9d350b-d96b-40c7-a62d-716ef7543ec7",
   "metadata": {},
   "outputs": [
    {
     "data": {
      "text/plain": [
       "array([ 5.,  9., 10.,  7.,  1.,  3.,  4.,  2.,  8.,  6., nan])"
      ]
     },
     "execution_count": 106,
     "metadata": {},
     "output_type": "execute_result"
    }
   ],
   "source": [
    "#Checking for possible unique star values\n",
    "df.stars.unique()"
   ]
  },
  {
   "cell_type": "code",
   "execution_count": 108,
   "id": "8b3860b7-7daf-4082-a6f4-70ded48385f2",
   "metadata": {},
   "outputs": [
    {
     "data": {
      "text/plain": [
       "stars\n",
       "1.0     896\n",
       "2.0     406\n",
       "3.0     401\n",
       "8.0     335\n",
       "10.0    275\n",
       "7.0     273\n",
       "9.0     266\n",
       "5.0     245\n",
       "4.0     234\n",
       "6.0     168\n",
       "Name: count, dtype: int64"
      ]
     },
     "execution_count": 108,
     "metadata": {},
     "output_type": "execute_result"
    }
   ],
   "source": [
    "df.stars.value_counts()"
   ]
  },
  {
   "cell_type": "markdown",
   "id": "dc8c990e-6478-47f6-b2d1-e2136c67c73e",
   "metadata": {},
   "source": [
    "<h2>CHECKING FOR NULL VALUES"
   ]
  },
  {
   "cell_type": "code",
   "execution_count": 115,
   "id": "3cd0af55-9079-4fac-9b60-6f62401ede83",
   "metadata": {},
   "outputs": [
    {
     "data": {
      "text/plain": [
       "reviews  stars  date   country  verified  clean_reviews  corpus\n",
       "False    False  False  False    False     False          False     3498\n",
       "                       True     False     False          False        1\n",
       "         True   False  False    False     False          False        1\n",
       "Name: count, dtype: int64"
      ]
     },
     "execution_count": 115,
     "metadata": {},
     "output_type": "execute_result"
    }
   ],
   "source": [
    "df.isnull().value_counts()"
   ]
  },
  {
   "cell_type": "code",
   "execution_count": 121,
   "id": "5ddae6b2-4be9-45aa-9d32-326c572539fd",
   "metadata": {},
   "outputs": [
    {
     "data": {
      "text/plain": [
       "stars\n",
       "False    3498\n",
       "True        1\n",
       "Name: count, dtype: int64"
      ]
     },
     "execution_count": 121,
     "metadata": {},
     "output_type": "execute_result"
    }
   ],
   "source": [
    "df.stars.isnull().value_counts()"
   ]
  },
  {
   "cell_type": "code",
   "execution_count": 125,
   "id": "06ff8483-c056-4347-b0bb-1782447d20b7",
   "metadata": {},
   "outputs": [],
   "source": [
    "#drop the rows using index where the country value is null\n",
    "df.drop(df[df.country.isnull() == True].index, axis=0, inplace=True)\n",
    "#drop the rows using index where the stars value is null\n",
    "df.drop(df[df.stars.isnull() == True].index, axis=0, inplace=True)"
   ]
  },
  {
   "cell_type": "code",
   "execution_count": 127,
   "id": "b8781f19-0e9a-47de-8006-811c8a671f63",
   "metadata": {},
   "outputs": [
    {
     "data": {
      "text/plain": [
       "reviews  stars  date   country  verified  clean_reviews  corpus\n",
       "False    False  False  False    False     False          False     3498\n",
       "Name: count, dtype: int64"
      ]
     },
     "execution_count": 127,
     "metadata": {},
     "output_type": "execute_result"
    }
   ],
   "source": [
    "df.isnull().value_counts()"
   ]
  },
  {
   "cell_type": "code",
   "execution_count": 129,
   "id": "84429b0f-15aa-400b-88fa-489016515831",
   "metadata": {},
   "outputs": [
    {
     "data": {
      "text/html": [
       "<div>\n",
       "<style scoped>\n",
       "    .dataframe tbody tr th:only-of-type {\n",
       "        vertical-align: middle;\n",
       "    }\n",
       "\n",
       "    .dataframe tbody tr th {\n",
       "        vertical-align: top;\n",
       "    }\n",
       "\n",
       "    .dataframe thead th {\n",
       "        text-align: right;\n",
       "    }\n",
       "</style>\n",
       "<table border=\"1\" class=\"dataframe\">\n",
       "  <thead>\n",
       "    <tr style=\"text-align: right;\">\n",
       "      <th></th>\n",
       "      <th>reviews</th>\n",
       "      <th>stars</th>\n",
       "      <th>date</th>\n",
       "      <th>country</th>\n",
       "      <th>verified</th>\n",
       "      <th>clean_reviews</th>\n",
       "      <th>corpus</th>\n",
       "    </tr>\n",
       "  </thead>\n",
       "  <tbody>\n",
       "    <tr>\n",
       "      <th>0</th>\n",
       "      <td>Not Verified |  LHR T5 BA Gold Wing worked wel...</td>\n",
       "      <td>5.0</td>\n",
       "      <td>2025-04-03</td>\n",
       "      <td>United Kingdom</td>\n",
       "      <td>False</td>\n",
       "      <td>Not Verified |  LHR T5 BA Gold Wing worked wel...</td>\n",
       "      <td>verified lhr ba gold wing worked well pleasant...</td>\n",
       "    </tr>\n",
       "    <tr>\n",
       "      <th>1</th>\n",
       "      <td>Not Verified |  Very good service on this rout...</td>\n",
       "      <td>9.0</td>\n",
       "      <td>2025-03-31</td>\n",
       "      <td>United Kingdom</td>\n",
       "      <td>False</td>\n",
       "      <td>Not Verified |  Very good service on this rout...</td>\n",
       "      <td>verified good service route ba th march cabin ...</td>\n",
       "    </tr>\n",
       "    <tr>\n",
       "      <th>2</th>\n",
       "      <td>✅ Trip Verified |   Flight mainly let down by ...</td>\n",
       "      <td>10.0</td>\n",
       "      <td>2025-03-19</td>\n",
       "      <td>United Kingdom</td>\n",
       "      <td>True</td>\n",
       "      <td>Flight mainly let down by a disagreeable fl...</td>\n",
       "      <td>flight mainly let disagreeable flight attendan...</td>\n",
       "    </tr>\n",
       "    <tr>\n",
       "      <th>3</th>\n",
       "      <td>✅ Trip Verified |   Another awful experience b...</td>\n",
       "      <td>7.0</td>\n",
       "      <td>2025-03-16</td>\n",
       "      <td>United States</td>\n",
       "      <td>True</td>\n",
       "      <td>Another awful experience by British Airways...</td>\n",
       "      <td>another awful experience british airway flight...</td>\n",
       "    </tr>\n",
       "    <tr>\n",
       "      <th>4</th>\n",
       "      <td>✅ Trip Verified |   The service was rude, full...</td>\n",
       "      <td>1.0</td>\n",
       "      <td>2025-03-16</td>\n",
       "      <td>United States</td>\n",
       "      <td>True</td>\n",
       "      <td>The service was rude, full of attitude to m...</td>\n",
       "      <td>service rude full attitude food poorly service...</td>\n",
       "    </tr>\n",
       "    <tr>\n",
       "      <th>...</th>\n",
       "      <td>...</td>\n",
       "      <td>...</td>\n",
       "      <td>...</td>\n",
       "      <td>...</td>\n",
       "      <td>...</td>\n",
       "      <td>...</td>\n",
       "      <td>...</td>\n",
       "    </tr>\n",
       "    <tr>\n",
       "      <th>3495</th>\n",
       "      <td>There are many negative reviews on this site -...</td>\n",
       "      <td>3.0</td>\n",
       "      <td>2014-11-25</td>\n",
       "      <td>United Kingdom</td>\n",
       "      <td>False</td>\n",
       "      <td>There are many negative reviews on this site -...</td>\n",
       "      <td>many negative review site almost embarrassing ...</td>\n",
       "    </tr>\n",
       "    <tr>\n",
       "      <th>3496</th>\n",
       "      <td>British Airways from Gatwick to Catania, Sicil...</td>\n",
       "      <td>6.0</td>\n",
       "      <td>2014-11-25</td>\n",
       "      <td>Thailand</td>\n",
       "      <td>False</td>\n",
       "      <td>British Airways from Gatwick to Catania, Sicil...</td>\n",
       "      <td>british airway gatwick catania sicily return p...</td>\n",
       "    </tr>\n",
       "    <tr>\n",
       "      <th>3497</th>\n",
       "      <td>Outbound flight with British Airways from Gatw...</td>\n",
       "      <td>4.0</td>\n",
       "      <td>2014-11-25</td>\n",
       "      <td>United States</td>\n",
       "      <td>False</td>\n",
       "      <td>Outbound flight with British Airways from Gatw...</td>\n",
       "      <td>outbound flight british airway gatwick orlando...</td>\n",
       "    </tr>\n",
       "    <tr>\n",
       "      <th>3498</th>\n",
       "      <td>✅ Verified Review |  Family of 4 adults flying...</td>\n",
       "      <td>10.0</td>\n",
       "      <td>2014-11-25</td>\n",
       "      <td>United States</td>\n",
       "      <td>False</td>\n",
       "      <td>✅ Verified Review |  Family of 4 adults flying...</td>\n",
       "      <td>verified review family adult flying british ai...</td>\n",
       "    </tr>\n",
       "    <tr>\n",
       "      <th>3499</th>\n",
       "      <td>Shanghai to London Heathrow with British Airwa...</td>\n",
       "      <td>10.0</td>\n",
       "      <td>2014-11-25</td>\n",
       "      <td>United Kingdom</td>\n",
       "      <td>False</td>\n",
       "      <td>Shanghai to London Heathrow with British Airwa...</td>\n",
       "      <td>shanghai london heathrow british airway excell...</td>\n",
       "    </tr>\n",
       "  </tbody>\n",
       "</table>\n",
       "<p>3498 rows × 7 columns</p>\n",
       "</div>"
      ],
      "text/plain": [
       "                                                reviews  stars       date  \\\n",
       "0     Not Verified |  LHR T5 BA Gold Wing worked wel...    5.0 2025-04-03   \n",
       "1     Not Verified |  Very good service on this rout...    9.0 2025-03-31   \n",
       "2     ✅ Trip Verified |   Flight mainly let down by ...   10.0 2025-03-19   \n",
       "3     ✅ Trip Verified |   Another awful experience b...    7.0 2025-03-16   \n",
       "4     ✅ Trip Verified |   The service was rude, full...    1.0 2025-03-16   \n",
       "...                                                 ...    ...        ...   \n",
       "3495  There are many negative reviews on this site -...    3.0 2014-11-25   \n",
       "3496  British Airways from Gatwick to Catania, Sicil...    6.0 2014-11-25   \n",
       "3497  Outbound flight with British Airways from Gatw...    4.0 2014-11-25   \n",
       "3498  ✅ Verified Review |  Family of 4 adults flying...   10.0 2014-11-25   \n",
       "3499  Shanghai to London Heathrow with British Airwa...   10.0 2014-11-25   \n",
       "\n",
       "             country  verified  \\\n",
       "0     United Kingdom     False   \n",
       "1     United Kingdom     False   \n",
       "2     United Kingdom      True   \n",
       "3      United States      True   \n",
       "4      United States      True   \n",
       "...              ...       ...   \n",
       "3495  United Kingdom     False   \n",
       "3496        Thailand     False   \n",
       "3497   United States     False   \n",
       "3498   United States     False   \n",
       "3499  United Kingdom     False   \n",
       "\n",
       "                                          clean_reviews  \\\n",
       "0     Not Verified |  LHR T5 BA Gold Wing worked wel...   \n",
       "1     Not Verified |  Very good service on this rout...   \n",
       "2        Flight mainly let down by a disagreeable fl...   \n",
       "3        Another awful experience by British Airways...   \n",
       "4        The service was rude, full of attitude to m...   \n",
       "...                                                 ...   \n",
       "3495  There are many negative reviews on this site -...   \n",
       "3496  British Airways from Gatwick to Catania, Sicil...   \n",
       "3497  Outbound flight with British Airways from Gatw...   \n",
       "3498  ✅ Verified Review |  Family of 4 adults flying...   \n",
       "3499  Shanghai to London Heathrow with British Airwa...   \n",
       "\n",
       "                                                 corpus  \n",
       "0     verified lhr ba gold wing worked well pleasant...  \n",
       "1     verified good service route ba th march cabin ...  \n",
       "2     flight mainly let disagreeable flight attendan...  \n",
       "3     another awful experience british airway flight...  \n",
       "4     service rude full attitude food poorly service...  \n",
       "...                                                 ...  \n",
       "3495  many negative review site almost embarrassing ...  \n",
       "3496  british airway gatwick catania sicily return p...  \n",
       "3497  outbound flight british airway gatwick orlando...  \n",
       "3498  verified review family adult flying british ai...  \n",
       "3499  shanghai london heathrow british airway excell...  \n",
       "\n",
       "[3498 rows x 7 columns]"
      ]
     },
     "execution_count": 129,
     "metadata": {},
     "output_type": "execute_result"
    }
   ],
   "source": [
    "df"
   ]
  },
  {
   "cell_type": "code",
   "execution_count": 131,
   "id": "a3164b67-bc16-4d9c-9086-73aa05923f2f",
   "metadata": {},
   "outputs": [
    {
     "data": {
      "text/html": [
       "<div>\n",
       "<style scoped>\n",
       "    .dataframe tbody tr th:only-of-type {\n",
       "        vertical-align: middle;\n",
       "    }\n",
       "\n",
       "    .dataframe tbody tr th {\n",
       "        vertical-align: top;\n",
       "    }\n",
       "\n",
       "    .dataframe thead th {\n",
       "        text-align: right;\n",
       "    }\n",
       "</style>\n",
       "<table border=\"1\" class=\"dataframe\">\n",
       "  <thead>\n",
       "    <tr style=\"text-align: right;\">\n",
       "      <th></th>\n",
       "      <th>reviews</th>\n",
       "      <th>stars</th>\n",
       "      <th>date</th>\n",
       "      <th>country</th>\n",
       "      <th>verified</th>\n",
       "      <th>clean_reviews</th>\n",
       "      <th>corpus</th>\n",
       "    </tr>\n",
       "  </thead>\n",
       "  <tbody>\n",
       "    <tr>\n",
       "      <th>0</th>\n",
       "      <td>Not Verified |  LHR T5 BA Gold Wing worked wel...</td>\n",
       "      <td>5.0</td>\n",
       "      <td>2025-04-03</td>\n",
       "      <td>United Kingdom</td>\n",
       "      <td>False</td>\n",
       "      <td>Not Verified |  LHR T5 BA Gold Wing worked wel...</td>\n",
       "      <td>verified lhr ba gold wing worked well pleasant...</td>\n",
       "    </tr>\n",
       "    <tr>\n",
       "      <th>1</th>\n",
       "      <td>Not Verified |  Very good service on this rout...</td>\n",
       "      <td>9.0</td>\n",
       "      <td>2025-03-31</td>\n",
       "      <td>United Kingdom</td>\n",
       "      <td>False</td>\n",
       "      <td>Not Verified |  Very good service on this rout...</td>\n",
       "      <td>verified good service route ba th march cabin ...</td>\n",
       "    </tr>\n",
       "    <tr>\n",
       "      <th>2</th>\n",
       "      <td>✅ Trip Verified |   Flight mainly let down by ...</td>\n",
       "      <td>10.0</td>\n",
       "      <td>2025-03-19</td>\n",
       "      <td>United Kingdom</td>\n",
       "      <td>True</td>\n",
       "      <td>Flight mainly let down by a disagreeable fl...</td>\n",
       "      <td>flight mainly let disagreeable flight attendan...</td>\n",
       "    </tr>\n",
       "    <tr>\n",
       "      <th>3</th>\n",
       "      <td>✅ Trip Verified |   Another awful experience b...</td>\n",
       "      <td>7.0</td>\n",
       "      <td>2025-03-16</td>\n",
       "      <td>United States</td>\n",
       "      <td>True</td>\n",
       "      <td>Another awful experience by British Airways...</td>\n",
       "      <td>another awful experience british airway flight...</td>\n",
       "    </tr>\n",
       "    <tr>\n",
       "      <th>4</th>\n",
       "      <td>✅ Trip Verified |   The service was rude, full...</td>\n",
       "      <td>1.0</td>\n",
       "      <td>2025-03-16</td>\n",
       "      <td>United States</td>\n",
       "      <td>True</td>\n",
       "      <td>The service was rude, full of attitude to m...</td>\n",
       "      <td>service rude full attitude food poorly service...</td>\n",
       "    </tr>\n",
       "    <tr>\n",
       "      <th>...</th>\n",
       "      <td>...</td>\n",
       "      <td>...</td>\n",
       "      <td>...</td>\n",
       "      <td>...</td>\n",
       "      <td>...</td>\n",
       "      <td>...</td>\n",
       "      <td>...</td>\n",
       "    </tr>\n",
       "    <tr>\n",
       "      <th>3493</th>\n",
       "      <td>There are many negative reviews on this site -...</td>\n",
       "      <td>3.0</td>\n",
       "      <td>2014-11-25</td>\n",
       "      <td>United Kingdom</td>\n",
       "      <td>False</td>\n",
       "      <td>There are many negative reviews on this site -...</td>\n",
       "      <td>many negative review site almost embarrassing ...</td>\n",
       "    </tr>\n",
       "    <tr>\n",
       "      <th>3494</th>\n",
       "      <td>British Airways from Gatwick to Catania, Sicil...</td>\n",
       "      <td>6.0</td>\n",
       "      <td>2014-11-25</td>\n",
       "      <td>Thailand</td>\n",
       "      <td>False</td>\n",
       "      <td>British Airways from Gatwick to Catania, Sicil...</td>\n",
       "      <td>british airway gatwick catania sicily return p...</td>\n",
       "    </tr>\n",
       "    <tr>\n",
       "      <th>3495</th>\n",
       "      <td>Outbound flight with British Airways from Gatw...</td>\n",
       "      <td>4.0</td>\n",
       "      <td>2014-11-25</td>\n",
       "      <td>United States</td>\n",
       "      <td>False</td>\n",
       "      <td>Outbound flight with British Airways from Gatw...</td>\n",
       "      <td>outbound flight british airway gatwick orlando...</td>\n",
       "    </tr>\n",
       "    <tr>\n",
       "      <th>3496</th>\n",
       "      <td>✅ Verified Review |  Family of 4 adults flying...</td>\n",
       "      <td>10.0</td>\n",
       "      <td>2014-11-25</td>\n",
       "      <td>United States</td>\n",
       "      <td>False</td>\n",
       "      <td>✅ Verified Review |  Family of 4 adults flying...</td>\n",
       "      <td>verified review family adult flying british ai...</td>\n",
       "    </tr>\n",
       "    <tr>\n",
       "      <th>3497</th>\n",
       "      <td>Shanghai to London Heathrow with British Airwa...</td>\n",
       "      <td>10.0</td>\n",
       "      <td>2014-11-25</td>\n",
       "      <td>United Kingdom</td>\n",
       "      <td>False</td>\n",
       "      <td>Shanghai to London Heathrow with British Airwa...</td>\n",
       "      <td>shanghai london heathrow british airway excell...</td>\n",
       "    </tr>\n",
       "  </tbody>\n",
       "</table>\n",
       "<p>3498 rows × 7 columns</p>\n",
       "</div>"
      ],
      "text/plain": [
       "                                                reviews  stars       date  \\\n",
       "0     Not Verified |  LHR T5 BA Gold Wing worked wel...    5.0 2025-04-03   \n",
       "1     Not Verified |  Very good service on this rout...    9.0 2025-03-31   \n",
       "2     ✅ Trip Verified |   Flight mainly let down by ...   10.0 2025-03-19   \n",
       "3     ✅ Trip Verified |   Another awful experience b...    7.0 2025-03-16   \n",
       "4     ✅ Trip Verified |   The service was rude, full...    1.0 2025-03-16   \n",
       "...                                                 ...    ...        ...   \n",
       "3493  There are many negative reviews on this site -...    3.0 2014-11-25   \n",
       "3494  British Airways from Gatwick to Catania, Sicil...    6.0 2014-11-25   \n",
       "3495  Outbound flight with British Airways from Gatw...    4.0 2014-11-25   \n",
       "3496  ✅ Verified Review |  Family of 4 adults flying...   10.0 2014-11-25   \n",
       "3497  Shanghai to London Heathrow with British Airwa...   10.0 2014-11-25   \n",
       "\n",
       "             country  verified  \\\n",
       "0     United Kingdom     False   \n",
       "1     United Kingdom     False   \n",
       "2     United Kingdom      True   \n",
       "3      United States      True   \n",
       "4      United States      True   \n",
       "...              ...       ...   \n",
       "3493  United Kingdom     False   \n",
       "3494        Thailand     False   \n",
       "3495   United States     False   \n",
       "3496   United States     False   \n",
       "3497  United Kingdom     False   \n",
       "\n",
       "                                          clean_reviews  \\\n",
       "0     Not Verified |  LHR T5 BA Gold Wing worked wel...   \n",
       "1     Not Verified |  Very good service on this rout...   \n",
       "2        Flight mainly let down by a disagreeable fl...   \n",
       "3        Another awful experience by British Airways...   \n",
       "4        The service was rude, full of attitude to m...   \n",
       "...                                                 ...   \n",
       "3493  There are many negative reviews on this site -...   \n",
       "3494  British Airways from Gatwick to Catania, Sicil...   \n",
       "3495  Outbound flight with British Airways from Gatw...   \n",
       "3496  ✅ Verified Review |  Family of 4 adults flying...   \n",
       "3497  Shanghai to London Heathrow with British Airwa...   \n",
       "\n",
       "                                                 corpus  \n",
       "0     verified lhr ba gold wing worked well pleasant...  \n",
       "1     verified good service route ba th march cabin ...  \n",
       "2     flight mainly let disagreeable flight attendan...  \n",
       "3     another awful experience british airway flight...  \n",
       "4     service rude full attitude food poorly service...  \n",
       "...                                                 ...  \n",
       "3493  many negative review site almost embarrassing ...  \n",
       "3494  british airway gatwick catania sicily return p...  \n",
       "3495  outbound flight british airway gatwick orlando...  \n",
       "3496  verified review family adult flying british ai...  \n",
       "3497  shanghai london heathrow british airway excell...  \n",
       "\n",
       "[3498 rows x 7 columns]"
      ]
     },
     "execution_count": 131,
     "metadata": {},
     "output_type": "execute_result"
    }
   ],
   "source": [
    "df.reset_index(drop=True)"
   ]
  },
  {
   "cell_type": "code",
   "execution_count": 139,
   "id": "e87d9c91-9b26-42b0-8e69-6f6d331c2aca",
   "metadata": {},
   "outputs": [],
   "source": [
    "df.to_csv(\"D:/BA-FEEDBACKLENS/CLEANED.csv\")"
   ]
  }
 ],
 "metadata": {
  "kernelspec": {
   "display_name": "Python 3 (ipykernel)",
   "language": "python",
   "name": "python3"
  },
  "language_info": {
   "codemirror_mode": {
    "name": "ipython",
    "version": 3
   },
   "file_extension": ".py",
   "mimetype": "text/x-python",
   "name": "python",
   "nbconvert_exporter": "python",
   "pygments_lexer": "ipython3",
   "version": "3.12.4"
  }
 },
 "nbformat": 4,
 "nbformat_minor": 5
}
